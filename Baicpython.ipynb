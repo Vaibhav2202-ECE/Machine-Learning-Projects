{
  "nbformat": 4,
  "nbformat_minor": 0,
  "metadata": {
    "colab": {
      "provenance": [],
      "authorship_tag": "ABX9TyMzWoJ1h53J6YS6uRUkLtX9",
      "include_colab_link": true
    },
    "kernelspec": {
      "name": "python3",
      "display_name": "Python 3"
    },
    "language_info": {
      "name": "python"
    }
  },
  "cells": [
    {
      "cell_type": "markdown",
      "metadata": {
        "id": "view-in-github",
        "colab_type": "text"
      },
      "source": [
        "<a href=\"https://colab.research.google.com/github/Vaibhav2202-ECE/Machine-Learning-Projects/blob/master/Baicpython.ipynb\" target=\"_parent\"><img src=\"https://colab.research.google.com/assets/colab-badge.svg\" alt=\"Open In Colab\"/></a>"
      ]
    },
    {
      "cell_type": "code",
      "execution_count": 1,
      "metadata": {
        "id": "ASnprVoMcLt5"
      },
      "outputs": [],
      "source": [
        "from statistics import mean"
      ]
    },
    {
      "cell_type": "code",
      "source": [
        "estimates=[1000,1010,1786,2000,1500,1500,1000]"
      ],
      "metadata": {
        "id": "dkCJXZOkcSDo"
      },
      "execution_count": 2,
      "outputs": []
    },
    {
      "cell_type": "code",
      "source": [
        "estimates.sort()"
      ],
      "metadata": {
        "id": "OR4HJq4bcajP"
      },
      "execution_count": 3,
      "outputs": []
    },
    {
      "cell_type": "code",
      "source": [
        "tv=int(0.1*len(estimates))"
      ],
      "metadata": {
        "id": "ttVE79aucdcL"
      },
      "execution_count": 4,
      "outputs": []
    },
    {
      "cell_type": "code",
      "source": [
        "estimates=estimates[tv:]"
      ],
      "metadata": {
        "id": "_dXzkGWtcmkf"
      },
      "execution_count": 6,
      "outputs": []
    },
    {
      "cell_type": "code",
      "source": [
        "for i in range(len(estimates)):\n",
        "  print(estimates[i])"
      ],
      "metadata": {
        "colab": {
          "base_uri": "https://localhost:8080/"
        },
        "id": "kORHgxkkcs7v",
        "outputId": "25a1063a-8401-439b-edf5-c2fb3c636014"
      },
      "execution_count": 7,
      "outputs": [
        {
          "output_type": "stream",
          "name": "stdout",
          "text": [
            "1000\n",
            "1000\n",
            "1010\n",
            "1500\n",
            "1500\n",
            "1786\n",
            "2000\n"
          ]
        }
      ]
    },
    {
      "cell_type": "code",
      "source": [
        "estimates=estimates[:len(estimates)-tv]"
      ],
      "metadata": {
        "id": "SFLQalL1dA2w"
      },
      "execution_count": 8,
      "outputs": []
    },
    {
      "cell_type": "code",
      "source": [
        "print(estimates)"
      ],
      "metadata": {
        "colab": {
          "base_uri": "https://localhost:8080/"
        },
        "id": "kYvQWsdgdKwD",
        "outputId": "2016e6bd-3c3f-42f2-c21d-9aa4102c4a5d"
      },
      "execution_count": 9,
      "outputs": [
        {
          "output_type": "stream",
          "name": "stdout",
          "text": [
            "[1000, 1000, 1010, 1500, 1500, 1786, 2000]\n"
          ]
        }
      ]
    },
    {
      "cell_type": "code",
      "source": [
        "print(mean(estimates))"
      ],
      "metadata": {
        "colab": {
          "base_uri": "https://localhost:8080/"
        },
        "id": "7XuAJDAxdNQz",
        "outputId": "f9f8068b-b1e9-47f6-aa27-5832be0af233"
      },
      "execution_count": 10,
      "outputs": [
        {
          "output_type": "stream",
          "name": "stdout",
          "text": [
            "1399.4285714285713\n"
          ]
        }
      ]
    },
    {
      "cell_type": "code",
      "source": [
        "from scipy import stats"
      ],
      "metadata": {
        "id": "IilR7OLhdVjM"
      },
      "execution_count": 11,
      "outputs": []
    },
    {
      "cell_type": "code",
      "source": [
        "estimates=[1000,2000,3000,4000,5000,6000,7000]"
      ],
      "metadata": {
        "id": "QWwrnXeFddcE"
      },
      "execution_count": 12,
      "outputs": []
    },
    {
      "cell_type": "code",
      "source": [
        "estimates.sort()"
      ],
      "metadata": {
        "id": "MbtlhHabdjj0"
      },
      "execution_count": 13,
      "outputs": []
    },
    {
      "cell_type": "code",
      "source": [
        "p=stats.trim_mean(estimates,0.1)"
      ],
      "metadata": {
        "id": "-HrNuAftdmKX"
      },
      "execution_count": 15,
      "outputs": []
    },
    {
      "cell_type": "code",
      "source": [
        "print(p)"
      ],
      "metadata": {
        "colab": {
          "base_uri": "https://localhost:8080/"
        },
        "id": "NF7lElFBdu1l",
        "outputId": "7335ec2e-a915-4846-ae85-48b64ed4ee8b"
      },
      "execution_count": 16,
      "outputs": [
        {
          "output_type": "stream",
          "name": "stdout",
          "text": [
            "4000.0\n"
          ]
        }
      ]
    },
    {
      "cell_type": "code",
      "source": [
        "import matplotlib as plt"
      ],
      "metadata": {
        "id": "86oT6d-cd2e1"
      },
      "execution_count": 17,
      "outputs": []
    },
    {
      "cell_type": "code",
      "source": [
        "xlabels=(\"x-axis\")"
      ],
      "metadata": {
        "id": "byhY0zFSd7hm"
      },
      "execution_count": 18,
      "outputs": []
    },
    {
      "cell_type": "code",
      "source": [
        "ylabels=(\"y-axis\")"
      ],
      "metadata": {
        "id": "9hj2shrgeDel"
      },
      "execution_count": 19,
      "outputs": []
    },
    {
      "cell_type": "code",
      "source": [],
      "metadata": {
        "id": "-G56zHFPeGgD"
      },
      "execution_count": null,
      "outputs": []
    }
  ]
}